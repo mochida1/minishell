{
 "cells": [
  {
   "cell_type": "markdown",
   "metadata": {},
   "source": [
    "## Quotes\n",
    "- [x]  Error message for unclosed quotes.\n",
    "\n",
    "## Built-ins\n",
    "### Export\n",
    "- [ ] Replace variable if it already exists; \n",
    "\n",
    "## Variable expansion\n",
    "- [ ]  (EXPORT) Checks if it works for variables with no parameters like `VARIABLE=`\n",
    "- [ ]  Checks `VAR=$VAR` expansions (recursion)."
   ]
  },
  {
   "cell_type": "markdown",
   "metadata": {},
   "source": []
  }
 ],
 "metadata": {
  "language_info": {
   "name": "python"
  },
  "orig_nbformat": 4
 },
 "nbformat": 4,
 "nbformat_minor": 2
}
